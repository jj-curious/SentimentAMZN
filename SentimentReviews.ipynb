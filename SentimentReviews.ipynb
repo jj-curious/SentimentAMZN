{
 "cells": [
  {
   "cell_type": "markdown",
   "metadata": {},
   "source": [
    "# Sentiment Analysis for Individual Product Features\n",
    "\n",
    "This notebook demonstrates how sentiment analysis can be used to evaluate opions about individual features of a product. For example, one might want to know how good (or bad) the battery or volume of a bluetooth speaker is. An naive approach would be to read multiple customer reviews. However, this can be exhausting, since there might be a lot of reviews for that product, from which only a small portion contain information about the relevant feature. Hence, it would be beneficial to get these information in a more compressed and easy to understand form.  \n",
    "\n",
    "To overcome this issue, a sentiment analysis model is trained with Amazon reviews data. This model, a Long-Short-Term-Memory (LSTM) neural network, is then used to compute sentiment scores from multiple reviews that contain opinions about certain product features . The single scores are then aggregated and expressed as a distribution or e.g. single metric (mean).  \n",
    "\n",
    "The steps involve:  \n",
    "1. Create a dataset from Amazon reviews  \n",
    "2. Clean and pre-process the raw text data  \n",
    "3. Train a LSTM with TensorFlow using Keras API  \n",
    "4. Extract the top product features  \n",
    "5. Use the sentiment model to predict and aggregrate customer's opinions about the product features"
   ]
  },
  {
   "cell_type": "markdown",
   "metadata": {},
   "source": [
    "# 1. Create a Dataset from Amazon Reviews\n",
    "\n",
    "Luckily, we do not need to gather all the reviews by ourselves, we can simply use the Amazon review dataset provided by Julian McAuley from the University of California San Diego, which are available at http://jmcauley.ucsd.edu/data/amazon/. For this notebook I'm going to use the $5-core$ datasets from the categories:  \n",
    "* Cell Phones and Accessories  \n",
    "* Electronics  \n",
    "* Home and Kitchen  \n",
    "* Musical Instruments  \n",
    "* Sports and Outdoors  \n",
    "* Tools and Home Improvement\n"
   ]
  },
  {
   "cell_type": "markdown",
   "metadata": {},
   "source": [
    "### 1.1 Import Files, Drop all Reviews with Neutral Rating and Convert Ratings to Binary Values\n",
    "\n",
    "Essentially, we only care about the review text with the corresponding rating as label. Moreover, neutral ratings (3 stars) are removed, since they are hard to predict. To achieve the best performance, it is advised to convert the ratings into binary values. We already did a survey at our University where we asked people to infer the numerical rating from a given review text. The results clearly indicated that people typically can not distinguish between 1 and 2 star or 4 and 5 ratings. Hence, the ratings are combined into the two classes 0 (1 & 2 star ratings) and 1 (4 & 5 star ratings)."
   ]
  },
  {
   "cell_type": "code",
   "execution_count": 3,
   "metadata": {},
   "outputs": [],
   "source": [
    "import numpy as np\n",
    "import pandas as pd\n",
    "import os\n",
    "import seaborn as sns\n",
    "import matplotlib.pyplot as plt\n",
    "from pylab import rcParams\n",
    "rcParams['figure.figsize'] = (12, 6)\n",
    "plt.style.use('ggplot')\n",
    "%matplotlib inline\n",
    "\n",
    "os.chdir('D:/data/amzn_reviews/') # folder with the .gz files"
   ]
  },
  {
   "cell_type": "code",
   "execution_count": 5,
   "metadata": {},
   "outputs": [],
   "source": [
    "files = os.listdir('dataset/')\n",
    "\n",
    "data = pd.DataFrame()\n",
    "for file in files:\n",
    "    df = pd.read_json(('dataset/'+file), lines=True)\n",
    "    df = df[['overall', 'reviewText']]\n",
    "    df = df[df['overall'] != 3]\n",
    "    df['class'] = np.where(df['overall'] >= 4, 1, 0)\n",
    "    data = data.append(df)"
   ]
  },
  {
   "cell_type": "markdown",
   "metadata": {},
   "source": [
    "Let's explore the length of the reviews in characters:"
   ]
  },
  {
   "cell_type": "code",
   "execution_count": 7,
   "metadata": {},
   "outputs": [
    {
     "data": {
      "image/png": "[encoded data removed]",
      "text/plain": [
       "<Figure size 864x432 with 1 Axes>"
      ]
     },
     "metadata": {},
     "output_type": "display_data"
    }
   ],
   "source": [
    "data['text_length'] = [len(text) for text in data['reviewText']]\n",
    "data['text_length'].plot.hist(bins=750, xlim=(0, 2000));"
   ]
  },
  {
   "cell_type": "markdown",
   "metadata": {},
   "source": [
    "### 1.2 Drop too Short and too Long Reviews\n",
    "LSTM models required a fixed input size of the training examples. Therefore, all reviews have to be padded or truncated to the same length. The final model is used to predict sentiments from sentences and thus, too long reviews are omitted. On the other hand, too short reviews might not contain enough information. Here, I decided to use reviews with the length of $100 < \\text{#characters} < 700$."
   ]
  },
  {
   "cell_type": "code",
   "execution_count": 8,
   "metadata": {},
   "outputs": [
    {
     "data": {
      "text/plain": [
       "1    1752813\n",
       "0     204202\n",
       "Name: class, dtype: int64"
      ]
     },
     "execution_count": 8,
     "metadata": {},
     "output_type": "execute_result"
    }
   ],
   "source": [
    "data = data[(data['text_length'] > 100) & (data['text_length'] < 700)]\n",
    "data['class'].value_counts()"
   ]
  },
  {
   "cell_type": "markdown",
   "metadata": {},
   "source": [
    "### 1.3 Create a Balanced Dataset\n",
    "\n",
    "We can see that only about 10% of the reviews are negative. Training a model with such a heavily biased dataset will be problematic. Since we have around 2 mio reviews here, the easiest way is to create an equally balanced dataset by randomly selecting the same amount from the positive reviews as we have negative ones."
   ]
  },
  {
   "cell_type": "code",
   "execution_count": 9,
   "metadata": {},
   "outputs": [],
   "source": [
    "selected_data = data[data['class'] == 0]\n",
    "selected_data = selected_data.append(data[data['class'] == 1].sample(len(data[data['class'] == 0]),\n",
    "                                                                      random_state=777))\n",
    "selected_data.drop(columns=['text_length'], inplace=True)\n",
    "selected_data = selected_data.sample(frac=1, random_state=777) #shuffle data"
   ]
  },
  {
   "cell_type": "markdown",
   "metadata": {},
   "source": [
    "# 2. Clean and Pre-Process the Raw Text Data\n",
    "\n",
    "The raw text data from the reviews are way too messy to use them directly. The code below applies various text pre-processing steps, including:  \n",
    "* remove stopwords ('that', 'so', 'and', etc.)  \n",
    "* apply lemmatization, i.e. reducing a word to its base form. E.g. 'handle', 'handling' and 'handles' are converted to 'handle'. In contrast with stemming, lemmatization is more accurate but also computational more expensive. For more information see https://nlp.stanford.edu/IR-book/html/htmledition/stemming-and-lemmatization-1.html .  \n",
    "* remove all unnecessary (special) characters and whitespaces and with regular expressions (regex)  \n",
    "\n",
    "To perform this task the popular NLTK library is used.  \n",
    "Note: If you have not used NLTK before you will get a LookupError. In this case you need to use `import nltk` followed by `nltk.download('wordnet')`, in order to download the NLTK files. "
   ]
  },
  {
   "cell_type": "code",
   "execution_count": 10,
   "metadata": {},
   "outputs": [],
   "source": [
    "from nltk.corpus import stopwords\n",
    "from nltk.stem import WordNetLemmatizer\n",
    "from string import punctuation\n",
    "import re\n",
    "\n",
    "def clean_text(text):\n",
    "    '''\n",
    "    function to clean and format the data, outputs a list\n",
    "    '''\n",
    "    text = text.lower().split()\n",
    "\n",
    "    # remove stop words ('that', 'so', 'and', etc.)\n",
    "    stopwords_lst = set(stopwords.words(\"english\"))\n",
    "    text = [w for w in text if not w in stopwords_lst]\n",
    "        \n",
    "    # lemmatization\n",
    "    text = [WordNetLemmatizer().lemmatize(word, pos='v') for word in text]    \n",
    "    text = \" \".join(text)\n",
    "    \n",
    "    # clean the text with regex\n",
    "    text = re.sub(r\"<br />\", \" \", text)    \n",
    "    text = re.sub(r\"[^a-z]\", \" \", text)\n",
    "    text = re.sub(r\"   \", \" \", text)\n",
    "    text = re.sub(r\"  \", \" \", text)\n",
    "    text = re.sub(r\"[^A-Za-z0-9^,!.\\/'+-=]\", \" \", text)\n",
    "    text = re.sub(r\"what's\", \"what is \", text)\n",
    "    text = re.sub(r\"\\'s\", \" \", text)\n",
    "    text = re.sub(r\"\\'ve\", \" have \", text)\n",
    "    text = re.sub(r\"n't\", \" not \", text)\n",
    "    text = re.sub(r\"i'm\", \"i am \", text)\n",
    "    text = re.sub(r\"\\'re\", \" are \", text)\n",
    "    text = re.sub(r\"\\'d\", \" would \", text)\n",
    "    text = re.sub(r\"\\'ll\", \" will \", text)\n",
    "    text = re.sub(r\",\", \" \", text)\n",
    "    text = re.sub(r\"\\.\", \" \", text)\n",
    "    text = re.sub(r\"!\", \" ! \", text)\n",
    "    text = re.sub(r\"\\/\", \" \", text)\n",
    "    text = re.sub(r\"\\^\", \" ^ \", text)\n",
    "    text = re.sub(r\"\\+\", \" + \", text)\n",
    "    text = re.sub(r\"\\-\", \" - \", text)\n",
    "    text = re.sub(r\"\\=\", \" = \", text)\n",
    "    text = re.sub(r\"'\", \" \", text)\n",
    "    text = re.sub(r\"(\\d+)(k)\", r\"\\g<1>000\", text)\n",
    "    text = re.sub(r\":\", \" : \", text)\n",
    "    text = re.sub(r\" e g \", \" eg \", text)\n",
    "    text = re.sub(r\" b g \", \" bg \", text)\n",
    "    text = re.sub(r\" u s \", \" american \", text)\n",
    "    text = re.sub(r\"\\0s\", \"0\", text)\n",
    "    text = re.sub(r\"e - mail\", \"email\", text)\n",
    "    text = re.sub(r\"j k\", \"jk\", text)\n",
    "    text = re.sub(r\"\\s{2,}\", \" \", text)\n",
    "    \n",
    "    # remove punctuation from text\n",
    "    text = ''.join([c for c in text if c not in punctuation])\n",
    "    return (text)\n",
    "\n",
    "\n",
    "cleaned = []\n",
    "for review in selected_data['reviewText']:\n",
    "    cleaned.append(clean_text(review))"
   ]
  },
  {
   "cell_type": "markdown",
   "metadata": {},
   "source": [
    "### 2.1 Check the Results\n",
    "To demonstrate the results of the pre-processing steps:"
   ]
  },
  {
   "cell_type": "code",
   "execution_count": 12,
   "metadata": {},
   "outputs": [
    {
     "name": "stdout",
     "output_type": "stream",
     "text": [
      "Original review: \n",
      " Klein makes the very best screwdrivers period!  This is the nicest set I could find and I have tried them all.  Very nice selection at a good price, way to go Klein!\n",
      "Cleaned review: \n",
      " klein make best screwdrivers period nicest set could find try all nice selection good price way go klein \n"
     ]
    }
   ],
   "source": [
    "print('Original review: \\n {}'.format(selected_data['reviewText'].iloc[0]))\n",
    "print('Cleaned review: \\n {}'.format(cleaned[0]))"
   ]
  },
  {
   "cell_type": "markdown",
   "metadata": {},
   "source": [
    "Now, finally merge the cleaned reviews with the numerical ratings:"
   ]
  },
  {
   "cell_type": "code",
   "execution_count": 13,
   "metadata": {},
   "outputs": [],
   "source": [
    "data = selected_data.copy()\n",
    "data['reviewText'] = cleaned\n",
    "data.reset_index(inplace=True, drop=True)"
   ]
  },
  {
   "cell_type": "markdown",
   "metadata": {},
   "source": [
    "### 2.2 Tokenization, padding and split into train/test data\n",
    "Obviously, we can not use strings as input for a neural network. Popular methods to convert them into numerical values are e.g. Bag-of-Words or TF-IDF. However, both approaches do not really suit neural networks. A more powerful approach is to use an embedding layer in the neural network, which requires already tokenized documents of the same length. Tokenization is a simple method of converting text into numerical values by indexing every token (word) and transforming the text to word vectors.  \n",
    "\n",
    "Since the embedding layer is going to index every unique word, it is beneficial to limit the amounts of words to the most frequent ones. Here, I set the limit to the most frequent 30000 words. LSTM also required fixed input size vectors and thus, the reviews are padded (extended with 0's) or truncated to 101 words.  \n",
    "\n",
    "Finally, the dataset is split into 75% train, 10% validation and 15% test data."
   ]
  },
  {
   "cell_type": "code",
   "execution_count": 14,
   "metadata": {},
   "outputs": [
    {
     "name": "stderr",
     "output_type": "stream",
     "text": [
      "Using TensorFlow backend.\n"
     ]
    },
    {
     "name": "stdout",
     "output_type": "stream",
     "text": [
      "Shape X_train (306303, 101)\n",
      "Shape y_train (306303,)\n",
      "Shape X_test (61260, 101)\n",
      "Shape y_test (61260,)\n",
      "Shape X_val (40841, 101)\n",
      "Shape y_val (40841,)\n"
     ]
    }
   ],
   "source": [
    "from keras.preprocessing.text import Tokenizer\n",
    "from keras.preprocessing.sequence import pad_sequences\n",
    "from sklearn.model_selection import train_test_split\n",
    "\n",
    "# train/test/val split\n",
    "train, remain = train_test_split(data, test_size=0.25, shuffle=False)\n",
    "test, validation = train_test_split(remain, test_size=0.4, shuffle=False)\n",
    "\n",
    "\n",
    "# Tokenziation\n",
    "max_words = 30000\n",
    "\n",
    "tokenizer = Tokenizer(num_words=max_words)\n",
    "tokenizer.fit_on_texts(data['reviewText'])\n",
    "train_seq = tokenizer.texts_to_sequences(train['reviewText'])\n",
    "test_seq = tokenizer.texts_to_sequences(test['reviewText'])\n",
    "val_seq = tokenizer.texts_to_sequences(validation['reviewText'])\n",
    "\n",
    "\n",
    "# padding reviews to same length\n",
    "max_review_length = 101\n",
    "\n",
    "max_review_length = max([len(lst) for lst in (train_seq+test_seq+val_seq)])\n",
    "X_train = pad_sequences(train_seq, maxlen=max_review_length)\n",
    "X_test = pad_sequences(test_seq, maxlen=max_review_length)\n",
    "X_val = pad_sequences(val_seq, maxlen=max_review_length)\n",
    "\n",
    "y_train = train['class']\n",
    "y_val = validation['class']\n",
    "\n",
    "\n",
    "# verify results\n",
    "print(\"Shape X_train\", X_train.shape)\n",
    "print(\"Shape y_train\", y_train.shape)\n",
    "print(\"Shape X_test\", X_test.shape)\n",
    "print(\"Shape y_test\", test['class'].shape)\n",
    "print(\"Shape X_val\", X_val.shape)\n",
    "print(\"Shape y_val\", y_val.shape)"
   ]
  },
  {
   "cell_type": "markdown",
   "metadata": {},
   "source": [
    "# 3. Train a LSTM with TensorFlow using Keras API\n",
    "\n",
    "The architecture of Long-Short-Term-Memory (LSTM) neural networks is highly recommended for sequential data, such as e.g. text. It allows to capture time dependent structure, i.e. not only regarding two adjacent words but also more distinct relationships. They are a type of Recurrent Neural Networks (RNN), with the purpose of overcoming the vanishing gradient problem by introducing the more sophisticated LSTM cells.  \n",
    "\n",
    "\n",
    "### 3.1 Define the Model\n",
    "\n",
    "\n",
    "Note: I'm using the for Nvidia GPUs optimized `CuDNNLSTM` cells here. This requires that you have a Nvidia GPU with installed CUDA and CuDNN drivers. As a result, training will be much faster compared to the regular LSTM cells. On the downside, the `CuDNNLSTM` cells do not allow for dropout. While the dropout between the layers can be implementent by adding a `Dropout` layer after the LSTM layer, there is unfortunately no way to implement the recurrent dropout, i.e. the dropout for the internal states. For this particular purpose here, I've found that there is actually no difference. However, if you don't have access to a Nvidia GPU or want to use the recurrent dropout, simply replace the keras `CuDNNLSTM` cells with the regular `LSTM` cells from `tensorflow.keras.layers`. "
   ]
  },
  {
   "cell_type": "code",
   "execution_count": 24,
   "metadata": {},
   "outputs": [
    {
     "name": "stdout",
     "output_type": "stream",
     "text": [
      "_________________________________________________________________\n",
      "Layer (type)                 Output Shape              Param #   \n",
      "=================================================================\n",
      "Input_Layer (InputLayer)     (None, 101)               0         \n",
      "_________________________________________________________________\n",
      "Embedding_Layer (Embedding)  (None, 101, 100)          3000000   \n",
      "_________________________________________________________________\n",
      "LSTM_Layer_0 (CuDNNLSTM)     (None, 101, 100)          80800     \n",
      "_________________________________________________________________\n",
      "Dropout_Layer_0 (Dropout)    (None, 101, 100)          0         \n",
      "_________________________________________________________________\n",
      "LSTM_Layer_1 (CuDNNLSTM)     (None, 101, 50)           30400     \n",
      "_________________________________________________________________\n",
      "Dropout_Layer_1 (Dropout)    (None, 101, 50)           0         \n",
      "_________________________________________________________________\n",
      "LSTM_Layer_2 (CuDNNLSTM)     (None, 25)                7700      \n",
      "_________________________________________________________________\n",
      "Dropout_Layer_2 (Dropout)    (None, 25)                0         \n",
      "_________________________________________________________________\n",
      "Output_Layer (Dense)         (None, 1)                 26        \n",
      "=================================================================\n",
      "Total params: 3,118,926\n",
      "Trainable params: 3,118,926\n",
      "Non-trainable params: 0\n",
      "_________________________________________________________________\n"
     ]
    }
   ],
   "source": [
    "import tensorflow as tf\n",
    "from tensorflow.keras.layers import CuDNNLSTM, LSTM, Embedding, Dropout, Input, Dense\n",
    "from tensorflow.keras.regularizers import l2\n",
    "from tensorflow.keras.optimizers import Adam\n",
    "from tensorflow.keras.callbacks import ModelCheckpoint\n",
    "\n",
    "def lstm_model(n_hidden=[100, 50, 25],\n",
    "               dropout_rate=0.2,\n",
    "               embedding_dim=100,\n",
    "               regularization=1e-6,\n",
    "               learning_rate=0.0001,\n",
    "               loss_function='binary_crossentropy',\n",
    "               activation='sigmoid',\n",
    "               initializer='he_normal'):\n",
    "        \n",
    "    input_layer = Input(shape=(max_review_length, ),\n",
    "                        dtype='int32', \n",
    "                        name=\"Input_Layer\")\n",
    "    embedding_layer = Embedding(input_dim=max_words,\n",
    "                                output_dim=embedding_dim,\n",
    "                                input_length=max_review_length,\n",
    "                                embeddings_initializer=initializer,\n",
    "                                embeddings_regularizer=l2(regularization),\n",
    "                                name=\"Embedding_Layer\")(input_layer)\n",
    "    x = CuDNNLSTM(units=n_hidden[0],\n",
    "                   return_sequences=True,\n",
    "                   unit_forget_bias=True,\n",
    "                   kernel_initializer=initializer,\n",
    "                   kernel_regularizer=l2(regularization),\n",
    "                   name=\"LSTM_Layer_0\")(embedding_layer)\n",
    "    x = Dropout(dropout_rate,\n",
    "                name=\"Dropout_Layer_0\")(x)\n",
    "    for i in range(len(n_hidden)-2):\n",
    "        x = CuDNNLSTM(units=n_hidden[i+1],\n",
    "                       return_sequences=True,\n",
    "                       unit_forget_bias=True,\n",
    "                       kernel_initializer=initializer,\n",
    "                       kernel_regularizer=l2(regularization),\n",
    "                       name=(\"LSTM_Layer_\"+str(i+1)))(x)\n",
    "        x = Dropout(dropout_rate,\n",
    "            name=(\"Dropout_Layer_\"+str(i+1)))(x)\n",
    "    x = CuDNNLSTM(units=n_hidden[-1],\n",
    "                   return_sequences=False,\n",
    "                   kernel_initializer=initializer,\n",
    "                   kernel_regularizer=l2(regularization),\n",
    "                   name=(\"LSTM_Layer_\"+str(len(n_hidden)-1)))(x)\n",
    "    x = Dropout(dropout_rate,\n",
    "                name=(\"Dropout_Layer_\"+str(len(n_hidden)-1)))(x)\n",
    "    output_layer = Dense(units=1,\n",
    "                        activation=activation,\n",
    "                        kernel_initializer=initializer,\n",
    "                        name=\"Output_Layer\")(x)\n",
    "    \n",
    "    model = tf.keras.Model(inputs=input_layer, outputs=output_layer)\n",
    "    model.summary()\n",
    "    model.compile(optimizer=Adam(lr=learning_rate),\n",
    "              loss=loss_function,\n",
    "              metrics=['accuracy'])    \n",
    "    return model\n",
    "\n",
    "\n",
    "\n",
    "def fit_model(model,\n",
    "             batch_size=128,\n",
    "             n_epochs=10):\n",
    "    \n",
    "    callbacks = [ModelCheckpoint(filepath='checkpoints/model_checkpoint.h5',\n",
    "                                 monitor='val_loss', \n",
    "                                 save_best_only=True)]\n",
    "    \n",
    "    model.fit(X_train, y_train,\n",
    "              batch_size=batch_size,\n",
    "              epochs=n_epochs,\n",
    "              validation_data=(X_val, y_val),\n",
    "              callbacks=callbacks,\n",
    "              verbose=1)\n",
    "    \n",
    "    \n",
    "model = lstm_model()"
   ]
  },
  {
   "cell_type": "markdown",
   "metadata": {},
   "source": [
    "About the model:  \n",
    "Dropout and $l2 - norm$ regularization is used to prevent overfitting. To achieve outputs between 0 and 1, the final activation function is *sigmoid* and for the loss function I've choosen *binary crossentropy*. The variables are initialized by drawing samples from a truncated normal distribution with the *He normal initializer*. Training is done with *Adam Optimizer*, a more sophisticated form of stochastic gradient descent. "
   ]
  },
  {
   "cell_type": "markdown",
   "metadata": {},
   "source": [
    "### 3.2 Train the model"
   ]
  },
  {
   "cell_type": "code",
   "execution_count": 25,
   "metadata": {},
   "outputs": [
    {
     "name": "stdout",
     "output_type": "stream",
     "text": [
      "Train on 306303 samples, validate on 40841 samples\n",
      "Epoch 1/5\n",
      "306303/306303 [==============================] - 127s 415us/step - loss: 0.3495 - acc: 0.8496 - val_loss: 0.2958 - val_acc: 0.8759\n",
      "Epoch 2/5\n",
      "306303/306303 [==============================] - 125s 409us/step - loss: 0.2746 - acc: 0.8879 - val_loss: 0.2844 - val_acc: 0.8803\n",
      "Epoch 3/5\n",
      "306303/306303 [==============================] - 126s 410us/step - loss: 0.2505 - acc: 0.8975 - val_loss: 0.2828 - val_acc: 0.8823\n",
      "Epoch 4/5\n",
      "306303/306303 [==============================] - 125s 408us/step - loss: 0.2320 - acc: 0.9060 - val_loss: 0.2926 - val_acc: 0.8813\n",
      "Epoch 5/5\n",
      "306303/306303 [==============================] - 124s 406us/step - loss: 0.2141 - acc: 0.9135 - val_loss: 0.2936 - val_acc: 0.8811\n"
     ]
    },
    {
     "data": {
      "image/png": "[encoded data removed]",
      "text/plain": [
       "<Figure size 864x432 with 1 Axes>"
      ]
     },
     "metadata": {},
     "output_type": "display_data"
    }
   ],
   "source": [
    "def plot_loss(model):\n",
    "    epochs = model.history.epoch\n",
    "    plt.figure()\n",
    "    plt.plot(epochs, model.history.history['loss'], \n",
    "             'bo', label='Training Loss', linestyle='-', color='red')\n",
    "    plt.plot(epochs, model.history.history['acc'],\n",
    "             'bo', label='Training Accuracy', linestyle='-', color='blue')\n",
    "    plt.plot(epochs, model.history.history['val_loss'],\n",
    "             'bo', label='Validation Loss', linestyle='-', color='orange')\n",
    "    plt.plot(epochs, model.history.history['val_acc'],\n",
    "             'bo', label='Validation Accuracy', linestyle='-', color='green')\n",
    "    plt.xlabel('Epoch')\n",
    "    plt.ylabel('Loss / Accuracy - Scores')\n",
    "    plt.title('Training - Loss / Accuracy')\n",
    "    plt.legend()\n",
    "    plt.show();\n",
    "    \n",
    "    \n",
    "fit_model(model=model, n_epochs=5)\n",
    "\n",
    "plot_loss(model)"
   ]
  },
  {
   "cell_type": "markdown",
   "metadata": {},
   "source": [
    "### 3.3 Evaluate the Results\n",
    "\n",
    "An advantage of binary classifications tasks is that a wide range of possible evaluation metrics is available. The most common and easy to interprete metric here is accuracy, i.e. how often the model predicts the correct class label on the test dataset. However, this is not the only metric of interest. Since the input dataset is perfectly equal distributed, the goal here is to achieve a balanced output, i.e. no bias towards negative or positive ratings. As we can see from the confusion matrix, there is only a very little bias torwards positive ratings, which is acceptable for this data and model architecture."
   ]
  },
  {
   "cell_type": "code",
   "execution_count": 178,
   "metadata": {},
   "outputs": [
    {
     "name": "stdout",
     "output_type": "stream",
     "text": [
      "Accuracy-Score is 0.8834\n",
      "Recall-Score is 0.8884\n",
      "Precision-Score is 0.8797\n",
      "F1-Score is 0.884\n",
      "ROC AUC-Score is 0.9514\n"
     ]
    },
    {
     "data": {
      "image/png": "[encoded data removed]",
      "text/plain": [
       "<Figure size 864x432 with 1 Axes>"
      ]
     },
     "metadata": {},
     "output_type": "display_data"
    }
   ],
   "source": [
    "from sklearn import metrics\n",
    "\n",
    "def plot_confusion_matrix(y_true, y_pred):\n",
    "    sns.heatmap(metrics.confusion_matrix(y_true, y_pred), annot=True, \n",
    "                cmap=\"PuBu\", alpha=0.7, cbar=False, fmt='.0f',\n",
    "                annot_kws={\"size\": 20})    \n",
    "    plt.xlabel('Predicted Label', fontsize=18)    \n",
    "    plt.ylabel('True Label', fontsize=18)\n",
    "    plt.xticks(fontsize=18)\n",
    "    plt.yticks(fontsize=18)\n",
    "    plt.title('Confusion Matrix', fontweight='bold', fontsize=24)\n",
    "    plt.show();\n",
    "    \n",
    "    \n",
    "predictions = model.predict(X_test)\n",
    "y_pred = np.round(predictions).ravel().astype(int)\n",
    "y_true = test['class']\n",
    "\n",
    "metrics_dict = {}\n",
    "metrics_dict['Accuracy'] = metrics.accuracy_score(y_true, y_pred)\n",
    "metrics_dict['Recall'] = metrics.recall_score(y_true, y_pred)\n",
    "metrics_dict['Precision'] = metrics.precision_score(y_true, y_pred)\n",
    "metrics_dict['F1'] = metrics.f1_score(y_true, y_pred)\n",
    "metrics_dict['ROC AUC'] = metrics.roc_auc_score(y_true, predictions)\n",
    "\n",
    "\n",
    "for key, value in metrics_dict.items():\n",
    "    print('{0}-Score is {1}'.format(key, np.round(value, 4)))    \n",
    "\n",
    "plot_confusion_matrix(y_true, y_pred)"
   ]
  },
  {
   "cell_type": "markdown",
   "metadata": {},
   "source": [
    "Visualizing the output distribution might be helpful to better understand the predictions. Remembering that we used the sigmoid function, which squashes all the values between 0 and 1, while tending to shift the values torwards more extreme values. This behaviour does suit our needs and can be clearly seen from the histogram below."
   ]
  },
  {
   "cell_type": "code",
   "execution_count": 180,
   "metadata": {},
   "outputs": [
    {
     "data": {
      "image/png": "[encoded data removed]",
      "text/plain": [
       "<Figure size 864x432 with 1 Axes>"
      ]
     },
     "metadata": {},
     "output_type": "display_data"
    },
    {
     "data": {
      "text/html": [
       "<div>\n",
       "<style scoped>\n",
       "    .dataframe tbody tr th:only-of-type {\n",
       "        vertical-align: middle;\n",
       "    }\n",
       "\n",
       "    .dataframe tbody tr th {\n",
       "        vertical-align: top;\n",
       "    }\n",
       "\n",
       "    .dataframe thead th {\n",
       "        text-align: right;\n",
       "    }\n",
       "</style>\n",
       "<table border=\"1\" class=\"dataframe\">\n",
       "  <thead>\n",
       "    <tr style=\"text-align: right;\">\n",
       "      <th></th>\n",
       "      <th>overall</th>\n",
       "      <th>reviewText</th>\n",
       "      <th>class</th>\n",
       "      <th>predictions</th>\n",
       "      <th>prediction_class</th>\n",
       "      <th>error</th>\n",
       "    </tr>\n",
       "  </thead>\n",
       "  <tbody>\n",
       "    <tr>\n",
       "      <th>306303</th>\n",
       "      <td>4</td>\n",
       "      <td>okay geeky cool thing button cord pause playba...</td>\n",
       "      <td>1</td>\n",
       "      <td>0.997059</td>\n",
       "      <td>1</td>\n",
       "      <td>0</td>\n",
       "    </tr>\n",
       "    <tr>\n",
       "      <th>306304</th>\n",
       "      <td>5</td>\n",
       "      <td>like it small still like it bunch blink option...</td>\n",
       "      <td>1</td>\n",
       "      <td>0.824071</td>\n",
       "      <td>1</td>\n",
       "      <td>0</td>\n",
       "    </tr>\n",
       "    <tr>\n",
       "      <th>306305</th>\n",
       "      <td>5</td>\n",
       "      <td>get gift teenager really put tablet wringer ca...</td>\n",
       "      <td>1</td>\n",
       "      <td>0.996410</td>\n",
       "      <td>1</td>\n",
       "      <td>0</td>\n",
       "    </tr>\n",
       "    <tr>\n",
       "      <th>306306</th>\n",
       "      <td>1</td>\n",
       "      <td>order zune dock get sierra wireless u cock cra...</td>\n",
       "      <td>0</td>\n",
       "      <td>0.006476</td>\n",
       "      <td>0</td>\n",
       "      <td>0</td>\n",
       "    </tr>\n",
       "    <tr>\n",
       "      <th>306307</th>\n",
       "      <td>1</td>\n",
       "      <td>title say all good deal wonder good ones stop ...</td>\n",
       "      <td>0</td>\n",
       "      <td>0.032145</td>\n",
       "      <td>0</td>\n",
       "      <td>0</td>\n",
       "    </tr>\n",
       "    <tr>\n",
       "      <th>306308</th>\n",
       "      <td>5</td>\n",
       "      <td>want get hand first aid emergencies also use i...</td>\n",
       "      <td>1</td>\n",
       "      <td>0.950500</td>\n",
       "      <td>1</td>\n",
       "      <td>0</td>\n",
       "    </tr>\n",
       "    <tr>\n",
       "      <th>306309</th>\n",
       "      <td>5</td>\n",
       "      <td>basically white glass marbles high specific gr...</td>\n",
       "      <td>1</td>\n",
       "      <td>0.159258</td>\n",
       "      <td>0</td>\n",
       "      <td>1</td>\n",
       "    </tr>\n",
       "    <tr>\n",
       "      <th>306310</th>\n",
       "      <td>1</td>\n",
       "      <td>mac computer avoid product look like apple usb...</td>\n",
       "      <td>0</td>\n",
       "      <td>0.024214</td>\n",
       "      <td>0</td>\n",
       "      <td>0</td>\n",
       "    </tr>\n",
       "    <tr>\n",
       "      <th>306311</th>\n",
       "      <td>1</td>\n",
       "      <td>nice looking works like crap sounds like alway...</td>\n",
       "      <td>0</td>\n",
       "      <td>0.002674</td>\n",
       "      <td>0</td>\n",
       "      <td>0</td>\n",
       "    </tr>\n",
       "    <tr>\n",
       "      <th>306312</th>\n",
       "      <td>1</td>\n",
       "      <td>one get work break couple days simply stop wor...</td>\n",
       "      <td>0</td>\n",
       "      <td>0.004052</td>\n",
       "      <td>0</td>\n",
       "      <td>0</td>\n",
       "    </tr>\n",
       "  </tbody>\n",
       "</table>\n",
       "</div>"
      ],
      "text/plain": [
       "        overall                                         reviewText  class  \\\n",
       "306303        4  okay geeky cool thing button cord pause playba...      1   \n",
       "306304        5  like it small still like it bunch blink option...      1   \n",
       "306305        5  get gift teenager really put tablet wringer ca...      1   \n",
       "306306        1  order zune dock get sierra wireless u cock cra...      0   \n",
       "306307        1  title say all good deal wonder good ones stop ...      0   \n",
       "306308        5  want get hand first aid emergencies also use i...      1   \n",
       "306309        5  basically white glass marbles high specific gr...      1   \n",
       "306310        1  mac computer avoid product look like apple usb...      0   \n",
       "306311        1  nice looking works like crap sounds like alway...      0   \n",
       "306312        1  one get work break couple days simply stop wor...      0   \n",
       "\n",
       "        predictions  prediction_class  error  \n",
       "306303     0.997059                 1      0  \n",
       "306304     0.824071                 1      0  \n",
       "306305     0.996410                 1      0  \n",
       "306306     0.006476                 0      0  \n",
       "306307     0.032145                 0      0  \n",
       "306308     0.950500                 1      0  \n",
       "306309     0.159258                 0      1  \n",
       "306310     0.024214                 0      0  \n",
       "306311     0.002674                 0      0  \n",
       "306312     0.004052                 0      0  "
      ]
     },
     "execution_count": 180,
     "metadata": {},
     "output_type": "execute_result"
    }
   ],
   "source": [
    "def plot_scores_dist(predictions_df):\n",
    "    plt.style.use('ggplot')\n",
    "    predictions_df['predictions'].hist(bins=100)\n",
    "    plt.xlabel('Sentiment Score')\n",
    "    plt.title('Sentiment Scores Distribution', fontweight='bold')\n",
    "    plt.show();\n",
    "    \n",
    "    \n",
    "predictions_df = test.copy()\n",
    "predictions_df['predictions'] = predictions\n",
    "predictions_df['prediction_class'] = y_pred0\n",
    "predictions_df['error'] = abs(y_true-y_pred)\n",
    "\n",
    "\n",
    "plot_scores_dist(predictions_df)\n",
    "\n",
    "predictions_df.head(10)"
   ]
  },
  {
   "cell_type": "markdown",
   "metadata": {},
   "source": [
    "### 3.4 Save the model\n",
    "Finally, the trained model is saved as a pickle file, which can be later reused to get predictions from it. We also need to save the tokenizer, since its internal dictionary is based on the reviews from the pre-processing step. "
   ]
  },
  {
   "cell_type": "code",
   "execution_count": 260,
   "metadata": {},
   "outputs": [],
   "source": [
    "import pickle\n",
    "from tensorflow.keras.models import save_model\n",
    "\n",
    "# save the model:\n",
    "save_model(model, filepath='model/final_model.h5')\n",
    "\n",
    "# save the tokenizer:\n",
    "with open('model/tokenizer.pickle', 'wb') as file:\n",
    "    pickle.dump(tokenizer, file)"
   ]
  },
  {
   "cell_type": "code",
   "execution_count": null,
   "metadata": {},
   "outputs": [],
   "source": [
    "# # If you want to load the trained model/tokenizer simply uncomment these lines:\n",
    "\n",
    "# from keras.models import load_model\n",
    "\n",
    "# # load the model:\n",
    "# model = load_model('model/final_model.h5')\n",
    "\n",
    "# # load the tokenizer:\n",
    "# with open('model/tokenizer.pickle', 'rb') as file:\n",
    "#     tokenizer = pickle.load(file)"
   ]
  },
  {
   "cell_type": "markdown",
   "metadata": {},
   "source": [
    "### 3.5 Inferencing\n",
    "\n",
    "The `inference` function takes as input the fitted model, the fitted tokenizer and the raw text, from which a sentiment score between 0 and 1 is predicted."
   ]
  },
  {
   "cell_type": "code",
   "execution_count": 142,
   "metadata": {},
   "outputs": [],
   "source": [
    "def inference(raw_text, model=model, tokenizer=tokenizer):\n",
    "    seq = tokenizer.texts_to_sequences([clean_text(raw_text)])\n",
    "    pad = pad_sequences(seq, maxlen=max_review_length)\n",
    "    return float(model.predict(pad))"
   ]
  },
  {
   "cell_type": "markdown",
   "metadata": {},
   "source": [
    "We can check the sentiment model's predictive power by inputting arbitrary strings. I've created three short examples for which an sentiment score is provided:"
   ]
  },
  {
   "cell_type": "code",
   "execution_count": 145,
   "metadata": {},
   "outputs": [
    {
     "name": "stdout",
     "output_type": "stream",
     "text": [
      "Positive text score: 0.9347\n",
      "Negative text score: 0.0667\n",
      "Neutral text score: 0.2220\n"
     ]
    }
   ],
   "source": [
    "pos_text = 'very good quality and fast delivery'\n",
    "neg_text = 'arrived broken, no answer from support, never again'\n",
    "neu_text = 'arrived too late, but quality is ok'\n",
    "\n",
    "print('Positive text score: {:.4f}'.format(inference(pos_text)))\n",
    "print('Negative text score: {:.4f}'.format(inference(neg_text)))\n",
    "print('Neutral text score: {:.4f}'.format(inference(neu_text)))"
   ]
  },
  {
   "cell_type": "markdown",
   "metadata": {},
   "source": [
    "# 4. Extract Relevant Keywords and Sentences\n",
    "\n",
    "A keyword here is a noun that refers to a certain product feature, e.g. volume or battery for a bluetooth speaker. To extract these keywords, the word frequency of nouns in the reviews is computed and the top k-keywords with the highest frequency are selected. "
   ]
  },
  {
   "cell_type": "markdown",
   "metadata": {},
   "source": [
    "### 4.1 Import Reviews\n",
    "\n",
    "To demonstrate how it works I've simply selected all the reviews for a product from the above used Amazon dataset. Each product on Amazon has an unique identification number, the ASIN, which is used to extract the reviews from the dataset.  \n",
    "\n",
    "Since the sentiment scores are aggregated from multiple reviews, only keywords that appear often enough in the reviews should be considered.  \n",
    "As an example I've selected an MP3 Player that is no more available (it's 2019), but the product description page can still be found here: https://www.amazon.com/gp/product/B002MAPRYU . This one has 1374 reviews, which should be enough to analyze multiple reviews per keyword."
   ]
  },
  {
   "cell_type": "code",
   "execution_count": 274,
   "metadata": {},
   "outputs": [],
   "source": [
    "asin = 'B002MAPRYU'\n",
    "\n",
    "reviews = pd.read_json(('dataset/reviews_Electronics_5.json.gz'), lines=True)\n",
    "reviews = reviews[reviews['asin'] == asin]['reviewText']"
   ]
  },
  {
   "cell_type": "markdown",
   "metadata": {},
   "source": [
    "### 4.2 Tokenize the Reviews and Apply Part-of-Speech Tagging\n",
    "\n",
    "In order to acutally get the nouns from the raw reviews a method called Part-of-Speech (POS) Tagging is used, which determines the word class for each word. Once again, NLTK is used to achieve this. The result is a ('word', 'tag')-tuple for each word. Since we are interested in nouns, only words with the 'NN' tag are choosen to keep. From these nouns are then the most 20 frequent ones, with at least 3 characters, selected.  \n",
    "\n",
    "Since the sentiment analysis is performed on sentences, the `tok_pos` function also returns tokenized sentences, i.e. the reviews are splitted into single sentences.  \n",
    "\n",
    "Note: If you have not used NLTK before you will get a LookupError. In this case you need to use `import nltk` followed by `nltk.download('averaged_perceptron_tagger')`, in order to download the NLTK files. "
   ]
  },
  {
   "cell_type": "code",
   "execution_count": 278,
   "metadata": {},
   "outputs": [
    {
     "name": "stdout",
     "output_type": "stream",
     "text": [
      "The 20 most frequent nouns are: \n",
      " ['player', 'clip', 'use', 'music', 'work', 'battery', 'time', 'sansa', 'card', 'quality', 'sound', 'device', 'price', 'unit', 'life', 'thing', 'play', 'charge', 'file', 'computer']\n"
     ]
    }
   ],
   "source": [
    "from keras.preprocessing.text import text_to_word_sequence\n",
    "from nltk import pos_tag, FreqDist\n",
    "from nltk.tokenize import sent_tokenize\n",
    "from collections import OrderedDict\n",
    "\n",
    "def tok_pos(reviews):\n",
    "    '''\n",
    "    Get the Part-of-Speech tag for each word and tokenize (split) the reviews into sentences\n",
    "    Input: list / pd.series with raw reviews\n",
    "    Output: (POS-tagged keywords, tokenized sentences)-tuple\n",
    "    '''\n",
    "    reviews_pos = []\n",
    "    reviews_sent = []\n",
    "    for review in reviews:\n",
    "        tok_review = text_to_word_sequence(clean_text(review))\n",
    "        reviews_pos.append(pos_tag(tok_review))\n",
    "        reviews_sent.append(sent_tokenize(review))\n",
    "        \n",
    "    reviews_sent = [sent for element in reviews_sent for sent in element] # flatten list\n",
    "    return reviews_pos, reviews_sent\n",
    "\n",
    "\n",
    "def get_tagged_words(reviews_pos, tag='NN'):\n",
    "    '''\n",
    "    Input: list with (word, POS-tag)-tuple\n",
    "    returns list with words for a specific POS-tag, e.g. 'NN' = nouns\n",
    "    '''\n",
    "    word_lst = []\n",
    "    for rev in reviews_pos:\n",
    "        word_lst.append([pos[0] for pos in rev if (pos[1] == tag)])\n",
    "    return [word for element in word_lst for word in element]\n",
    "\n",
    "\n",
    "def get_top_k(word_lst, k=20, min_length=3):\n",
    "    '''\n",
    "    Returns the k most common words of a list\n",
    "    Set min_length to exlcude words shorter than min_length\n",
    "    '''\n",
    "    words_freq = FreqDist(word_lst)\n",
    "    words_freq = {word: count for word, count in words_freq.items() if len(word) >= min_length}\n",
    "    words_freq = OrderedDict(sorted(words_freq.items(), key = lambda x: x[1], reverse=True))\n",
    "    return list(words_freq.keys())[:k]\n",
    "\n",
    "\n",
    "reviews_pos, reviews_sent = tok_pos(reviews)\n",
    "nouns = get_tagged_words(reviews_pos)\n",
    "top20 = get_top_k(nouns)\n",
    "\n",
    "print('The 20 most frequent nouns are: \\n {}'.format(top20))"
   ]
  },
  {
   "cell_type": "markdown",
   "metadata": {},
   "source": [
    "# 5. Use the Model to Predict Sentiments for the Top20 Keywords \n",
    "\n",
    "In the final step all the sentences containing each of the keywords are identified and the sentiment model is used to predict the sentiment for each of these sentences."
   ]
  },
  {
   "cell_type": "code",
   "execution_count": 279,
   "metadata": {},
   "outputs": [],
   "source": [
    "def predict_sentiment(sentences, keywords):\n",
    "    '''\n",
    "    predict the sentiment scores from the 'sentences' list \n",
    "    for each keyword of the 'keywords' list\n",
    "    returns a dictonary with all the sentiment scores per keywords\n",
    "    '''\n",
    "    sentiments = {}\n",
    "    for word in keywords:\n",
    "        scores = []\n",
    "        for review in sentences:\n",
    "            if word in review.lower():\n",
    "                scores.append(inference(clean_text(review)))\n",
    "\n",
    "        sentiments[word] = scores\n",
    "    return sentiments\n",
    "\n",
    "sentiments = predict_sentiment(reviews_sent, top20)"
   ]
  },
  {
   "cell_type": "markdown",
   "metadata": {},
   "source": [
    "Let's visualize the sentiment distribution of keyword:"
   ]
  },
  {
   "cell_type": "code",
   "execution_count": 281,
   "metadata": {},
   "outputs": [
    {
     "data": {
      "image/png": "[encoded data removed]",
      "text/plain": [
       "<Figure size 864x504 with 20 Axes>"
      ]
     },
     "metadata": {},
     "output_type": "display_data"
    }
   ],
   "source": [
    "def plot_scores(sentiments):\n",
    "    fig = plt.figure(figsize=(12, 7))\n",
    "\n",
    "    for num, word in enumerate(sentiments.keys()):\n",
    "        ax = fig.add_subplot(5, 4, num+1)\n",
    "        ax.hist(sentiments.get(word), bins=20)\n",
    "        ax.set_xlim(0, 1)\n",
    "        ax.set_title('{} --- avg score: {:.2f}'.format(word, \n",
    "                                                     np.mean(sentiments.get(word))))\n",
    "        ax.set_yticklabels([])\n",
    "        if num < 16:\n",
    "            ax.set_xticklabels([])\n",
    "\n",
    "    plt.suptitle('Sentiment Scores - Top 20 Keywords', fontsize=20, fontweight='bold')\n",
    "    fig.tight_layout(rect=[0, 0.03, 1, 0.92])\n",
    "    plt.show()\n",
    "    \n",
    "plot_scores(sentiments)"
   ]
  },
  {
   "cell_type": "markdown",
   "metadata": {},
   "source": [
    "A short overview of the descriptive statistics:"
   ]
  },
  {
   "cell_type": "code",
   "execution_count": 247,
   "metadata": {},
   "outputs": [
    {
     "data": {
      "text/html": [
       "<div>\n",
       "<style scoped>\n",
       "    .dataframe tbody tr th:only-of-type {\n",
       "        vertical-align: middle;\n",
       "    }\n",
       "\n",
       "    .dataframe tbody tr th {\n",
       "        vertical-align: top;\n",
       "    }\n",
       "\n",
       "    .dataframe thead th {\n",
       "        text-align: right;\n",
       "    }\n",
       "</style>\n",
       "<table border=\"1\" class=\"dataframe\">\n",
       "  <thead>\n",
       "    <tr style=\"text-align: right;\">\n",
       "      <th></th>\n",
       "      <th>player</th>\n",
       "      <th>clip</th>\n",
       "      <th>use</th>\n",
       "      <th>music</th>\n",
       "      <th>work</th>\n",
       "      <th>battery</th>\n",
       "      <th>time</th>\n",
       "      <th>sansa</th>\n",
       "      <th>card</th>\n",
       "      <th>quality</th>\n",
       "      <th>sound</th>\n",
       "      <th>device</th>\n",
       "      <th>price</th>\n",
       "      <th>unit</th>\n",
       "      <th>life</th>\n",
       "      <th>thing</th>\n",
       "      <th>play</th>\n",
       "      <th>charge</th>\n",
       "      <th>file</th>\n",
       "      <th>computer</th>\n",
       "    </tr>\n",
       "  </thead>\n",
       "  <tbody>\n",
       "    <tr>\n",
       "      <th>count</th>\n",
       "      <td>1714.000000</td>\n",
       "      <td>1130.000000</td>\n",
       "      <td>1709.000000</td>\n",
       "      <td>895.000000</td>\n",
       "      <td>882.000000</td>\n",
       "      <td>545.000000</td>\n",
       "      <td>534.000000</td>\n",
       "      <td>639.000000</td>\n",
       "      <td>495.000000</td>\n",
       "      <td>381.000000</td>\n",
       "      <td>666.000000</td>\n",
       "      <td>397.000000</td>\n",
       "      <td>330.000000</td>\n",
       "      <td>323.000000</td>\n",
       "      <td>310.000000</td>\n",
       "      <td>792.000000</td>\n",
       "      <td>2325.000000</td>\n",
       "      <td>366.000000</td>\n",
       "      <td>353.000000</td>\n",
       "      <td>251.000000</td>\n",
       "    </tr>\n",
       "    <tr>\n",
       "      <th>mean</th>\n",
       "      <td>0.552330</td>\n",
       "      <td>0.519260</td>\n",
       "      <td>0.566596</td>\n",
       "      <td>0.634279</td>\n",
       "      <td>0.529338</td>\n",
       "      <td>0.586408</td>\n",
       "      <td>0.488334</td>\n",
       "      <td>0.484859</td>\n",
       "      <td>0.629121</td>\n",
       "      <td>0.684929</td>\n",
       "      <td>0.673366</td>\n",
       "      <td>0.519438</td>\n",
       "      <td>0.740294</td>\n",
       "      <td>0.486903</td>\n",
       "      <td>0.696643</td>\n",
       "      <td>0.465440</td>\n",
       "      <td>0.540271</td>\n",
       "      <td>0.482144</td>\n",
       "      <td>0.524758</td>\n",
       "      <td>0.476190</td>\n",
       "    </tr>\n",
       "    <tr>\n",
       "      <th>std</th>\n",
       "      <td>0.327222</td>\n",
       "      <td>0.333287</td>\n",
       "      <td>0.327943</td>\n",
       "      <td>0.307808</td>\n",
       "      <td>0.343465</td>\n",
       "      <td>0.337812</td>\n",
       "      <td>0.329374</td>\n",
       "      <td>0.334946</td>\n",
       "      <td>0.314897</td>\n",
       "      <td>0.318162</td>\n",
       "      <td>0.315985</td>\n",
       "      <td>0.339374</td>\n",
       "      <td>0.289015</td>\n",
       "      <td>0.333859</td>\n",
       "      <td>0.319271</td>\n",
       "      <td>0.340900</td>\n",
       "      <td>0.331272</td>\n",
       "      <td>0.314666</td>\n",
       "      <td>0.326744</td>\n",
       "      <td>0.310803</td>\n",
       "    </tr>\n",
       "    <tr>\n",
       "      <th>min</th>\n",
       "      <td>0.001649</td>\n",
       "      <td>0.001649</td>\n",
       "      <td>0.001649</td>\n",
       "      <td>0.002401</td>\n",
       "      <td>0.001788</td>\n",
       "      <td>0.002611</td>\n",
       "      <td>0.001649</td>\n",
       "      <td>0.001649</td>\n",
       "      <td>0.002943</td>\n",
       "      <td>0.001649</td>\n",
       "      <td>0.001849</td>\n",
       "      <td>0.001788</td>\n",
       "      <td>0.001849</td>\n",
       "      <td>0.003525</td>\n",
       "      <td>0.005624</td>\n",
       "      <td>0.001849</td>\n",
       "      <td>0.001649</td>\n",
       "      <td>0.001849</td>\n",
       "      <td>0.005361</td>\n",
       "      <td>0.001742</td>\n",
       "    </tr>\n",
       "    <tr>\n",
       "      <th>25%</th>\n",
       "      <td>0.252385</td>\n",
       "      <td>0.213888</td>\n",
       "      <td>0.263199</td>\n",
       "      <td>0.375151</td>\n",
       "      <td>0.187083</td>\n",
       "      <td>0.277746</td>\n",
       "      <td>0.188943</td>\n",
       "      <td>0.180812</td>\n",
       "      <td>0.369578</td>\n",
       "      <td>0.455298</td>\n",
       "      <td>0.419755</td>\n",
       "      <td>0.208980</td>\n",
       "      <td>0.566497</td>\n",
       "      <td>0.182407</td>\n",
       "      <td>0.469948</td>\n",
       "      <td>0.142466</td>\n",
       "      <td>0.237602</td>\n",
       "      <td>0.224449</td>\n",
       "      <td>0.235315</td>\n",
       "      <td>0.206700</td>\n",
       "    </tr>\n",
       "    <tr>\n",
       "      <th>50%</th>\n",
       "      <td>0.570544</td>\n",
       "      <td>0.517547</td>\n",
       "      <td>0.599413</td>\n",
       "      <td>0.717240</td>\n",
       "      <td>0.554704</td>\n",
       "      <td>0.652030</td>\n",
       "      <td>0.470430</td>\n",
       "      <td>0.453695</td>\n",
       "      <td>0.727506</td>\n",
       "      <td>0.816369</td>\n",
       "      <td>0.803041</td>\n",
       "      <td>0.483299</td>\n",
       "      <td>0.882301</td>\n",
       "      <td>0.460293</td>\n",
       "      <td>0.829028</td>\n",
       "      <td>0.407384</td>\n",
       "      <td>0.546645</td>\n",
       "      <td>0.460217</td>\n",
       "      <td>0.503039</td>\n",
       "      <td>0.472399</td>\n",
       "    </tr>\n",
       "    <tr>\n",
       "      <th>75%</th>\n",
       "      <td>0.873608</td>\n",
       "      <td>0.848875</td>\n",
       "      <td>0.882655</td>\n",
       "      <td>0.910204</td>\n",
       "      <td>0.861183</td>\n",
       "      <td>0.917884</td>\n",
       "      <td>0.801759</td>\n",
       "      <td>0.825076</td>\n",
       "      <td>0.916023</td>\n",
       "      <td>0.967636</td>\n",
       "      <td>0.959458</td>\n",
       "      <td>0.850611</td>\n",
       "      <td>0.970176</td>\n",
       "      <td>0.831679</td>\n",
       "      <td>0.965907</td>\n",
       "      <td>0.815065</td>\n",
       "      <td>0.867723</td>\n",
       "      <td>0.772229</td>\n",
       "      <td>0.835137</td>\n",
       "      <td>0.728547</td>\n",
       "    </tr>\n",
       "    <tr>\n",
       "      <th>max</th>\n",
       "      <td>0.998586</td>\n",
       "      <td>0.998220</td>\n",
       "      <td>0.998586</td>\n",
       "      <td>0.998522</td>\n",
       "      <td>0.998586</td>\n",
       "      <td>0.998425</td>\n",
       "      <td>0.998387</td>\n",
       "      <td>0.998120</td>\n",
       "      <td>0.998522</td>\n",
       "      <td>0.998387</td>\n",
       "      <td>0.998200</td>\n",
       "      <td>0.997651</td>\n",
       "      <td>0.998586</td>\n",
       "      <td>0.998220</td>\n",
       "      <td>0.998425</td>\n",
       "      <td>0.998387</td>\n",
       "      <td>0.998586</td>\n",
       "      <td>0.998387</td>\n",
       "      <td>0.998341</td>\n",
       "      <td>0.998140</td>\n",
       "    </tr>\n",
       "  </tbody>\n",
       "</table>\n",
       "</div>"
      ],
      "text/plain": [
       "            player         clip          use       music        work  \\\n",
       "count  1714.000000  1130.000000  1709.000000  895.000000  882.000000   \n",
       "mean      0.552330     0.519260     0.566596    0.634279    0.529338   \n",
       "std       0.327222     0.333287     0.327943    0.307808    0.343465   \n",
       "min       0.001649     0.001649     0.001649    0.002401    0.001788   \n",
       "25%       0.252385     0.213888     0.263199    0.375151    0.187083   \n",
       "50%       0.570544     0.517547     0.599413    0.717240    0.554704   \n",
       "75%       0.873608     0.848875     0.882655    0.910204    0.861183   \n",
       "max       0.998586     0.998220     0.998586    0.998522    0.998586   \n",
       "\n",
       "          battery        time       sansa        card     quality       sound  \\\n",
       "count  545.000000  534.000000  639.000000  495.000000  381.000000  666.000000   \n",
       "mean     0.586408    0.488334    0.484859    0.629121    0.684929    0.673366   \n",
       "std      0.337812    0.329374    0.334946    0.314897    0.318162    0.315985   \n",
       "min      0.002611    0.001649    0.001649    0.002943    0.001649    0.001849   \n",
       "25%      0.277746    0.188943    0.180812    0.369578    0.455298    0.419755   \n",
       "50%      0.652030    0.470430    0.453695    0.727506    0.816369    0.803041   \n",
       "75%      0.917884    0.801759    0.825076    0.916023    0.967636    0.959458   \n",
       "max      0.998425    0.998387    0.998120    0.998522    0.998387    0.998200   \n",
       "\n",
       "           device       price        unit        life       thing  \\\n",
       "count  397.000000  330.000000  323.000000  310.000000  792.000000   \n",
       "mean     0.519438    0.740294    0.486903    0.696643    0.465440   \n",
       "std      0.339374    0.289015    0.333859    0.319271    0.340900   \n",
       "min      0.001788    0.001849    0.003525    0.005624    0.001849   \n",
       "25%      0.208980    0.566497    0.182407    0.469948    0.142466   \n",
       "50%      0.483299    0.882301    0.460293    0.829028    0.407384   \n",
       "75%      0.850611    0.970176    0.831679    0.965907    0.815065   \n",
       "max      0.997651    0.998586    0.998220    0.998425    0.998387   \n",
       "\n",
       "              play      charge        file    computer  \n",
       "count  2325.000000  366.000000  353.000000  251.000000  \n",
       "mean      0.540271    0.482144    0.524758    0.476190  \n",
       "std       0.331272    0.314666    0.326744    0.310803  \n",
       "min       0.001649    0.001849    0.005361    0.001742  \n",
       "25%       0.237602    0.224449    0.235315    0.206700  \n",
       "50%       0.546645    0.460217    0.503039    0.472399  \n",
       "75%       0.867723    0.772229    0.835137    0.728547  \n",
       "max       0.998586    0.998387    0.998341    0.998140  "
      ]
     },
     "execution_count": 247,
     "metadata": {},
     "output_type": "execute_result"
    }
   ],
   "source": [
    "sentiments_df = pd.DataFrame.from_dict(sentiments, orient='index').T\n",
    "sentiments_df.describe()"
   ]
  },
  {
   "cell_type": "markdown",
   "metadata": {},
   "source": [
    "# Usage\n",
    "\n",
    "For example, one could:  \n",
    "\n",
    "* build a web-scraper that downloads all the reviews for a certain product from a website and use the proposed model to get aggregated metrics about the desired product features. In fact, all you need is a set of reviews that contain a reasonable amount of reviews about the features.  \n",
    "* use the sentiment scores to compare various products with regard to their features, e.g. product A has a better battery but worse volume than product B.  \n",
    "* find a product with the best feature among a large set of available products, e.g. find the speaker with the best battery.  \n",
    "* quickly evaluate what customers like and don't like about your own or the competitors products.  \n",
    "\n",
    "etc...\n",
    "\n",
    "\n",
    "\n",
    "\n",
    "# Outlook\n",
    "\n",
    "There is still a lot of potential to optimize the result, e.g.: \n",
    "\n",
    "* use more reviews, possibly include reviews from other data ressources besides Amazon.  \n",
    "* build the model upon a pre-trained word2vec model  \n",
    "* use a more sophisticated pre-processing procedure and model \n",
    "* generate additional input-features from the raw text  \n",
    "* extract keywords with a latent Dirichlet allocation (LDA) model instead of POS tagging  \n",
    "\n",
    "However, verifying the results of sentiment models is definitley not straightforward. While accurarcy and other metrics might not be that difficult to optimize, they do not account the complex structures of natural language such as sarcasm, fake reviews and mislabeled training data (some people indeed think that a 1-star review is the best rating and thus, they write a very positive text which has a very negative rating). "
   ]
  },
  {
   "cell_type": "code",
   "execution_count": 267,
   "metadata": {},
   "outputs": [
    {
     "name": "stdout",
     "output_type": "stream",
     "text": [
      "tensorflow 1.12.0\n",
      "sklearn    0.20.2\n",
      "pandas     0.23.4\n",
      "numpy      1.16.2\n",
      "matplotlib 2.2.2\n",
      "re         2.2.1\n",
      "scipy      1.0.0\n",
      "seaborn    0.9.0\n",
      "2019-05-10 \n",
      "\n",
      "CPython 3.6.4\n",
      "IPython 6.2.1\n",
      "\n",
      "keras 2.2.4\n",
      "nltk 3.2.5\n"
     ]
    }
   ],
   "source": [
    "% load_ext watermark\n",
    "% watermark -d -v -iv -p keras,nltk"
   ]
  }
 ],
 "metadata": {
  "kernelspec": {
   "display_name": "Python 3",
   "language": "python",
   "name": "python3"
  },
  "language_info": {
   "codemirror_mode": {
    "name": "ipython",
    "version": 3
   },
   "file_extension": ".py",
   "mimetype": "text/x-python",
   "name": "python",
   "nbconvert_exporter": "python",
   "pygments_lexer": "ipython3",
   "version": "3.6.4"
  },
  "toc": {
   "base_numbering": 1,
   "nav_menu": {},
   "number_sections": false,
   "sideBar": true,
   "skip_h1_title": false,
   "title_cell": "Table of Contents",
   "title_sidebar": "Contents",
   "toc_cell": false,
   "toc_position": {},
   "toc_section_display": true,
   "toc_window_display": false
  }
 },
 "nbformat": 4,
 "nbformat_minor": 2
}
